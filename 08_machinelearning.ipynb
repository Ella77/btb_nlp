{
 "metadata": {
  "language_info": {
   "codemirror_mode": {
    "name": "ipython",
    "version": 3
   },
   "file_extension": ".py",
   "mimetype": "text/x-python",
   "name": "python",
   "nbconvert_exporter": "python",
   "pygments_lexer": "ipython3",
   "version": 3
  },
  "orig_nbformat": 2
 },
 "nbformat": 4,
 "nbformat_minor": 2,
 "cells": [
  {
   "cell_type": "code",
   "execution_count": null,
   "metadata": {},
   "outputs": [],
   "source": [
    "# machine learning : find patterns in data \n",
    "\n",
    "# train, validation(tune the performance of model - hyperparameter), test \n",
    "# hyperparameter(user can tune it) vs parameter(can get parameter when train) \n",
    "# k-fold cross validation\n",
    "\n",
    "#linear regression vs logistic regression(-> classification)\n",
    "# binary classification vs multi class classification + multi label classification\n",
    "# supervised learning vs unsupervised learning (ex) LDA, Word2Vec\n",
    "\n",
    "# each data, each row. We call it sample\n",
    "# y = Wx + b ( W : feature )\n",
    "# confusion matrix : TF(whether it is correct), PN(model's result)\n",
    "\n",
    "# Precision : TP / (TP + FP)\n",
    "# Recall : TP / (TP + EN)"
   ]
  }
 ]
}