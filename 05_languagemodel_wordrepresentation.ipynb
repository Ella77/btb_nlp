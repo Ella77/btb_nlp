{
 "metadata": {
  "language_info": {
   "codemirror_mode": {
    "name": "ipython",
    "version": 3
   },
   "file_extension": ".py",
   "mimetype": "text/x-python",
   "name": "python",
   "nbconvert_exporter": "python",
   "pygments_lexer": "ipython3",
   "version": "3.7.7-final"
  },
  "orig_nbformat": 2,
  "kernelspec": {
   "name": "python3",
   "display_name": "Python 3.7.7 64-bit ('soojin': conda)",
   "metadata": {
    "interpreter": {
     "hash": "c1d6de45c24788840fd74248446393b135aca3ccbf7e89113c403b8c871d3e34"
    }
   }
  }
 },
 "nbformat": 4,
 "nbformat_minor": 2,
 "cells": [
  {
   "source": [
    "\n",
    "- language modeling : predict next token ->  to match realistic probability distribution\n",
    "- SLM : statistical language model with chain rule\n",
    "- sparsity problem : limitation of count based approach (if not the word sequence appear -> denominator becomes zero)\n",
    "   - n-gram, generalization(smoothing, backoff)"
   ],
   "cell_type": "markdown",
   "metadata": {}
  },
  {
   "source": [
    "## n-gram\n",
    "- not count all words before but include random number of previous words\n",
    "- \"n\" sequential words \n",
    "- predict using previous \"n-1\" words\n",
    "- trade off : sparsity problem (n up ) vs small model size (n small)\n",
    "- n <= 5 "
   ],
   "cell_type": "markdown",
   "metadata": {}
  },
  {
   "source": [
    "## 한국어 자연어 처리가 어려운 이유\n",
    "- 의미전달에 어순이 중요하지 않다. \n",
    "- 교착어이다. -> 조사가 있다.\n",
    "- 띄어쓰기가 제대로 지켜지지 않는다.  "
   ],
   "cell_type": "markdown",
   "metadata": {}
  },
  {
   "source": [
    "## Perplexity (PPL)\n",
    "- multiplicative inverse(역수) of probability of normalized test data \n",
    "- branch factor\n",
    "- the less, the better (maximizes the probability of sentence)\n",
    "- dependent of test data (domain, quantity )"
   ],
   "cell_type": "markdown",
   "metadata": {}
  }
 ]
}